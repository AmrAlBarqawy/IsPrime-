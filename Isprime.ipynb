{
 "cells": [
  {
   "cell_type": "code",
   "execution_count": 27,
   "metadata": {},
   "outputs": [
    {
     "name": "stdout",
     "output_type": "stream",
     "text": [
      "This number is not prime, Divisable by 1109.\n"
     ]
    }
   ],
   "source": [
    "try:\n",
    "    x = int(input(\"Enter the number: \"))\n",
    "    j = 0\n",
    "    for i in range(2,x):\n",
    "        if x%i == 0:\n",
    "            j += 1\n",
    "            if j != 0:\n",
    "                print(f\"This number is not prime, Divisable by {str(i)}.\")\n",
    "                break\n",
    "    if j == 0:\n",
    "        print(\"This number is Prime\")\n",
    "except ValueError:\n",
    "    print(\"Please enter a numerical value!\")"
   ]
  }
 ],
 "metadata": {
  "interpreter": {
   "hash": "6d46af94c2bbce495f1e668725902fa517c90b1782bcfe2fce0dd9868df553d3"
  },
  "kernelspec": {
   "display_name": "Python 3.9.7 ('base')",
   "language": "python",
   "name": "python3"
  },
  "language_info": {
   "codemirror_mode": {
    "name": "ipython",
    "version": 3
   },
   "file_extension": ".py",
   "mimetype": "text/x-python",
   "name": "python",
   "nbconvert_exporter": "python",
   "pygments_lexer": "ipython3",
   "version": "3.9.7"
  },
  "orig_nbformat": 4
 },
 "nbformat": 4,
 "nbformat_minor": 2
}
