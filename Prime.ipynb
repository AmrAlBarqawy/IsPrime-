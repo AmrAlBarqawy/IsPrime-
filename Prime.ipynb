{
 "cells": [
  {
   "cell_type": "code",
   "execution_count": 16,
   "metadata": {},
   "outputs": [
    {
     "name": "stdout",
     "output_type": "stream",
     "text": [
      "Please enter a numerical value!\n"
     ]
    }
   ],
   "source": [
    "try:    \n",
    "    x= int(input(\"Range: \"))\n",
    "    for i in range(1,x+1):\n",
    "        p = 0\n",
    "        for j in range(2,i):\n",
    "            if i%j == 0:\n",
    "                p =+ 1\n",
    "        if p == 0:\n",
    "            print(i)\n",
    "except ValueError:\n",
    "    print(\"Please enter a numerical value!\")\n",
    "        "
   ]
  },
  {
   "cell_type": "code",
   "execution_count": null,
   "metadata": {},
   "outputs": [],
   "source": []
  }
 ],
 "metadata": {
  "interpreter": {
   "hash": "6d46af94c2bbce495f1e668725902fa517c90b1782bcfe2fce0dd9868df553d3"
  },
  "kernelspec": {
   "display_name": "Python 3.9.7 ('base')",
   "language": "python",
   "name": "python3"
  },
  "language_info": {
   "codemirror_mode": {
    "name": "ipython",
    "version": 3
   },
   "file_extension": ".py",
   "mimetype": "text/x-python",
   "name": "python",
   "nbconvert_exporter": "python",
   "pygments_lexer": "ipython3",
   "version": "3.9.7"
  },
  "orig_nbformat": 4
 },
 "nbformat": 4,
 "nbformat_minor": 2
}
